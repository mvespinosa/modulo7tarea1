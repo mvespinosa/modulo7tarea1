{
 "cells": [
  {
   "cell_type": "code",
   "execution_count": 208,
   "metadata": {
    "collapsed": false
   },
   "outputs": [
    {
     "name": "stdout",
     "output_type": "stream",
     "text": [
      "Status Code:    =>  3\n",
      "Status Code:  OK  =>  40\n",
      "Status Code:  Not Found  =>  4\n",
      "Status Code:  Bad Request  =>  10\n"
     ]
    }
   ],
   "source": [
    "# Variables broadcast\n",
    "my_broadcast_variable = sc.broadcast({200: 'OK', 401: 'Bad Request', 404: 'Not Found'})\n",
    "\n",
    "file_rdd = sc.textFile('test.log')\n",
    "\n",
    "def extractStatusCode(line):\n",
    "    toks = line.split(' ')\n",
    "    if len(toks) > 7:\n",
    "        return (my_broadcast_variable.value[int(toks[8])], 1)\n",
    "    else:\n",
    "        return (\"\", 1)\n",
    "    \n",
    "statusCodes = file_rdd.map(extractStatusCode).groupByKey()\n",
    "\n",
    "for line in statusCodes.collect():\n",
    "    print \"Status Code: \", line[0], \" => \", sum(line[1])"
   ]
  },
  {
   "cell_type": "code",
   "execution_count": 165,
   "metadata": {
    "collapsed": false
   },
   "outputs": [
    {
     "name": "stdout",
     "output_type": "stream",
     "text": [
      "Blank lines: 3 of 57\n"
     ]
    }
   ],
   "source": [
    "# Create Accumulator[Int] initialized to 0\n",
    "blankLines = sc.accumulator(0)\n",
    "\n",
    "file_rdd = sc.textFile('test.log')\n",
    "\n",
    "def extractCallSigns(line):\n",
    "    global blankLines # Make the global variable accessible\n",
    "    if (line == ''):\n",
    "        blankLines += 1\n",
    "    return line\n",
    "\n",
    "callSigns = file_rdd.map(extractCallSigns)\n",
    "\n",
    "print \"Blank lines: {1} of {0}\".format(callSigns.count(), blankLines.value)\n"
   ]
  },
  {
   "cell_type": "code",
   "execution_count": null,
   "metadata": {
    "collapsed": true
   },
   "outputs": [],
   "source": []
  }
 ],
 "metadata": {
  "kernelspec": {
   "display_name": "Python 2",
   "language": "python",
   "name": "python2"
  },
  "language_info": {
   "codemirror_mode": {
    "name": "ipython",
    "version": 2
   },
   "file_extension": ".py",
   "mimetype": "text/x-python",
   "name": "python",
   "nbconvert_exporter": "python",
   "pygments_lexer": "ipython2",
   "version": "2.7.11"
  }
 },
 "nbformat": 4,
 "nbformat_minor": 0
}
